{
  "cells": [
    {
      "cell_type": "markdown",
      "metadata": {
        "id": "view-in-github",
        "colab_type": "text"
      },
      "source": [
        "<a href=\"https://colab.research.google.com/github/MohammedAfthab18/Path-Planning-with-PSO/blob/main/uav_path_planning_with_pso.ipynb\" target=\"_parent\"><img src=\"https://colab.research.google.com/assets/colab-badge.svg\" alt=\"Open In Colab\"/></a>"
      ]
    },
    {
      "cell_type": "code",
      "execution_count": 1,
      "id": "b70d7f4b",
      "metadata": {
        "execution": {
          "iopub.execute_input": "2023-03-10T00:20:20.751298Z",
          "iopub.status.busy": "2023-03-10T00:20:20.750800Z",
          "iopub.status.idle": "2023-03-10T00:20:20.901933Z",
          "shell.execute_reply": "2023-03-10T00:20:20.900989Z"
        },
        "papermill": {
          "duration": 0.160981,
          "end_time": "2023-03-10T00:20:20.904576",
          "exception": false,
          "start_time": "2023-03-10T00:20:20.743595",
          "status": "completed"
        },
        "tags": [],
        "id": "b70d7f4b"
      },
      "outputs": [],
      "source": [
        "import numpy as np # linear algebra\n",
        "import pandas as pd # data processing, CSV file I/O (e.g. pd.read_csv)\n",
        "import matplotlib.pyplot as plt\n",
        "\n",
        "from scipy.io import savemat\n",
        "import matplotlib.image as mpimg\n",
        "from mpl_toolkits.mplot3d import Axes3D\n",
        "from matplotlib import animation\n",
        "%matplotlib inline"
      ]
    },
    {
      "cell_type": "code",
      "execution_count": 2,
      "id": "407c7dd8",
      "metadata": {
        "execution": {
          "iopub.execute_input": "2023-03-10T00:20:20.929416Z",
          "iopub.status.busy": "2023-03-10T00:20:20.928517Z",
          "iopub.status.idle": "2023-03-10T00:20:20.936755Z",
          "shell.execute_reply": "2023-03-10T00:20:20.935923Z"
        },
        "papermill": {
          "duration": 0.01743,
          "end_time": "2023-03-10T00:20:20.938989",
          "exception": false,
          "start_time": "2023-03-10T00:20:20.921559",
          "status": "completed"
        },
        "tags": [],
        "id": "407c7dd8"
      },
      "outputs": [],
      "source": [
        "def create_model():\n",
        "\n",
        "    # Source\n",
        "    xs = 0\n",
        "    ys = 0\n",
        "    zs = 0\n",
        "\n",
        "    # Target (Destination)\n",
        "    xt = 4\n",
        "    yt = 5\n",
        "    zt = 5\n",
        "\n",
        "    xobs = [1.5, 4.0, 1.2]\n",
        "    yobs = [4.5, 3.0, 1.5]\n",
        "    zobs = [4.5, 3.0, 1.5]\n",
        "    robs = [0.6, 0.6, 0.8]\n",
        "\n",
        "    n = 10\n",
        "\n",
        "    xmin = 0\n",
        "    xmax = 6\n",
        "\n",
        "    ymin = 0\n",
        "    ymax = 6\n",
        "\n",
        "    zmin = -10\n",
        "    zmax = 10\n",
        "\n",
        "    model = {\n",
        "        \"xs\": xs,\n",
        "        \"ys\": ys,\n",
        "        \"zs\": zs,\n",
        "        \"xt\": xt,\n",
        "        \"yt\": yt,\n",
        "        \"zt\": zt,\n",
        "        \"xobs\": xobs,\n",
        "        \"yobs\": yobs,\n",
        "        \"zobs\": zobs,\n",
        "        \"robs\": robs,\n",
        "        \"n\": n,\n",
        "        \"xmin\": xmin,\n",
        "        \"xmax\": xmax,\n",
        "        \"ymin\": ymin,\n",
        "        \"ymax\": ymax,\n",
        "        \"zmin\": zmin,\n",
        "        \"zmax\": zmax,\n",
        "    }\n",
        "\n",
        "    return model"
      ]
    },
    {
      "cell_type": "code",
      "execution_count": 3,
      "id": "5fdf7454",
      "metadata": {
        "execution": {
          "iopub.execute_input": "2023-03-10T00:20:20.964175Z",
          "iopub.status.busy": "2023-03-10T00:20:20.963548Z",
          "iopub.status.idle": "2023-03-10T00:20:20.969814Z",
          "shell.execute_reply": "2023-03-10T00:20:20.968476Z"
        },
        "papermill": {
          "duration": 0.015867,
          "end_time": "2023-03-10T00:20:20.972127",
          "exception": false,
          "start_time": "2023-03-10T00:20:20.956260",
          "status": "completed"
        },
        "tags": [],
        "id": "5fdf7454"
      },
      "outputs": [],
      "source": [
        "def create_random_solution(model):\n",
        "\n",
        "    n = model[\"n\"]\n",
        "\n",
        "    xmin = model[\"xmin\"]\n",
        "    xmax = model[\"xmax\"]\n",
        "\n",
        "    ymin = model[\"ymin\"]\n",
        "    ymax = model[\"ymax\"]\n",
        "\n",
        "    sol1 = {\n",
        "        \"x\": np.random.uniform(xmin, xmax, size=n),\n",
        "        \"y\": np.random.uniform(ymin, ymax, size=n),\n",
        "    }\n",
        "\n",
        "    return sol1"
      ]
    },
    {
      "cell_type": "code",
      "execution_count": 4,
      "id": "2f27619e",
      "metadata": {
        "execution": {
          "iopub.execute_input": "2023-03-10T00:20:20.997139Z",
          "iopub.status.busy": "2023-03-10T00:20:20.996512Z",
          "iopub.status.idle": "2023-03-10T00:20:21.001340Z",
          "shell.execute_reply": "2023-03-10T00:20:21.000486Z"
        },
        "papermill": {
          "duration": 0.014294,
          "end_time": "2023-03-10T00:20:21.003519",
          "exception": false,
          "start_time": "2023-03-10T00:20:20.989225",
          "status": "completed"
        },
        "tags": [],
        "id": "2f27619e"
      },
      "outputs": [],
      "source": [
        "def my_cost(sol1, model):\n",
        "\n",
        "    sol = parse_solution(sol1, model)\n",
        "\n",
        "    beta = 100\n",
        "    z = sol[\"L\"] * (1 + beta * sol[\"Violation\"])\n",
        "\n",
        "    return z, sol"
      ]
    },
    {
      "cell_type": "code",
      "execution_count": 5,
      "id": "63e4adc6",
      "metadata": {
        "execution": {
          "iopub.execute_input": "2023-03-10T00:20:21.030704Z",
          "iopub.status.busy": "2023-03-10T00:20:21.030077Z",
          "iopub.status.idle": "2023-03-10T00:20:21.266005Z",
          "shell.execute_reply": "2023-03-10T00:20:21.265128Z"
        },
        "papermill": {
          "duration": 0.246677,
          "end_time": "2023-03-10T00:20:21.268495",
          "exception": false,
          "start_time": "2023-03-10T00:20:21.021818",
          "status": "completed"
        },
        "tags": [],
        "id": "63e4adc6"
      },
      "outputs": [],
      "source": [
        "import numpy as np\n",
        "from scipy.interpolate import splprep, splev, splrep, interp1d\n",
        "\n",
        "def parse_solution(sol1, model):\n",
        "\n",
        "    x = sol1[\"x\"]\n",
        "    y = sol1[\"y\"]\n",
        "\n",
        "    xs = model[\"xs\"]\n",
        "    ys = model[\"ys\"]\n",
        "    xt = model[\"xt\"]\n",
        "    yt = model[\"yt\"]\n",
        "    xobs = model[\"xobs\"]\n",
        "    yobs = model[\"yobs\"]\n",
        "    robs = model[\"robs\"]\n",
        "\n",
        "    XS = [xs] + x.tolist() + [xt]\n",
        "    YS = [ys] + y.tolist() + [yt]\n",
        "\n",
        "#     print(XS)\n",
        "\n",
        "    k = len(XS)\n",
        "    TS = np.linspace(0, 1, k)\n",
        "\n",
        "    tt = np.linspace(0, 1, 100)\n",
        "    xx = splrep(TS, XS, k=3)\n",
        "    yy = splrep(TS, YS, k=3)\n",
        "    x_interpolated = splev(tt, xx)\n",
        "    y_interpolated = splev(tt, yy)\n",
        "\n",
        "    dx = np.diff(x_interpolated)\n",
        "    dy = np.diff(y_interpolated)\n",
        "\n",
        "    L = np.sqrt(np.sum(np.square(dx) + np.square(dy)))\n",
        "\n",
        "    nobs = len(xobs)\n",
        "    Violation = 0\n",
        "    for k in range(nobs):\n",
        "        d = np.sqrt((x_interpolated - xobs[k])**2 + (y_interpolated - yobs[k])**2)\n",
        "        v = np.maximum(1 - d/robs[k], 0)\n",
        "        Violation += np.mean(v)\n",
        "\n",
        "#     print(x_interpolated)\n",
        "\n",
        "    sol2 = {\n",
        "        \"TS\": TS,\n",
        "        \"XS\": XS,\n",
        "        \"YS\": YS,\n",
        "        \"tt\": np.linspace(0, 1, 100),\n",
        "        \"xx\": x_interpolated,\n",
        "        \"yy\": y_interpolated,\n",
        "        \"dx\": dx,\n",
        "        \"dy\": dy,\n",
        "        \"L\": L,\n",
        "        \"Violation\": Violation,\n",
        "        \"IsFeasible\": (Violation == 0),\n",
        "    }\n",
        "\n",
        "    return sol2"
      ]
    },
    {
      "cell_type": "code",
      "execution_count": 6,
      "id": "e75af4f4",
      "metadata": {
        "execution": {
          "iopub.execute_input": "2023-03-10T00:20:21.294246Z",
          "iopub.status.busy": "2023-03-10T00:20:21.293621Z",
          "iopub.status.idle": "2023-03-10T00:20:21.303675Z",
          "shell.execute_reply": "2023-03-10T00:20:21.302530Z"
        },
        "papermill": {
          "duration": 0.019987,
          "end_time": "2023-03-10T00:20:21.306179",
          "exception": false,
          "start_time": "2023-03-10T00:20:21.286192",
          "status": "completed"
        },
        "tags": [],
        "id": "e75af4f4"
      },
      "outputs": [],
      "source": [
        "def PlotSolution(sol, model):\n",
        "    xs = model['xs']\n",
        "    ys = model['ys']\n",
        "    xt = model['xt']\n",
        "    yt = model['yt']\n",
        "    xobs = model['xobs']\n",
        "    yobs = model['yobs']\n",
        "    robs = model['robs']\n",
        "\n",
        "    XS = sol['XS']\n",
        "    YS = sol['YS']\n",
        "    xx = sol['xx']\n",
        "    yy = sol['yy']\n",
        "\n",
        "    theta = np.linspace(0, 2*np.pi, 100)\n",
        "    for k in range(len(xobs)):\n",
        "        plt.fill(xobs[k] + robs[k]*np.cos(theta), yobs[k] + robs[k]*np.sin(theta), [0.5, 0.7, 0.8])\n",
        "\n",
        "    plt.plot(xx, yy, 'k', linewidth=2)\n",
        "    plt.plot(XS, YS, 'ro')\n",
        "    plt.plot(xs, ys, 'bs', markersize=12, markerfacecolor='y')\n",
        "    plt.plot(xt, yt, 'kp', markersize=16, markerfacecolor='g')\n",
        "    plt.grid(True)\n",
        "    plt.axis('equal')\n",
        "    plt.show()"
      ]
    },
    {
      "cell_type": "code",
      "execution_count": 7,
      "id": "0073a321",
      "metadata": {
        "execution": {
          "iopub.execute_input": "2023-03-10T00:20:21.320310Z",
          "iopub.status.busy": "2023-03-10T00:20:21.319687Z",
          "iopub.status.idle": "2023-03-10T00:20:21.330432Z",
          "shell.execute_reply": "2023-03-10T00:20:21.329588Z"
        },
        "papermill": {
          "duration": 0.020422,
          "end_time": "2023-03-10T00:20:21.332706",
          "exception": false,
          "start_time": "2023-03-10T00:20:21.312284",
          "status": "completed"
        },
        "tags": [],
        "id": "0073a321"
      },
      "outputs": [],
      "source": [
        "def PlotSolution2(sol, model):\n",
        "\n",
        "    fig, ax = plt.subplots()\n",
        "    xs = model['xs']\n",
        "    ys = model['ys']\n",
        "    xt = model['xt']\n",
        "    yt = model['yt']\n",
        "    xobs = model['xobs']\n",
        "    yobs = model['yobs']\n",
        "    robs = model['robs']\n",
        "\n",
        "    XS = sol['XS']\n",
        "    YS = sol['YS']\n",
        "    xx = sol['xx']\n",
        "    yy = sol['yy']\n",
        "\n",
        "    ax.clear()\n",
        "\n",
        "    theta = np.linspace(0, 2*np.pi, 100)\n",
        "    for k in range(len(xobs)):\n",
        "        ax.fill(xobs[k] + robs[k]*np.cos(theta), yobs[k] + robs[k]*np.sin(theta), [0.5, 0.7, 0.8])\n",
        "\n",
        "\n",
        "    ax.plot(xx, yy, 'k', linewidth=2)\n",
        "    ax.plot(XS, YS, 'ro')\n",
        "#     ax.plot(xs, ys, 'bs', markersize=12, markerfacecolor='y')\n",
        "    ax.plot(xs, ys, marker=(3, 0, np.rad2deg(np.pi/4)), markersize=12, markerfacecolor='y')\n",
        "\n",
        "    ax.plot(xt, yt, 'kp', markersize=16, markerfacecolor='g')\n",
        "    ax.grid(True)\n",
        "    ax.axis('equal')\n",
        "    plt.show()"
      ]
    },
    {
      "cell_type": "code",
      "execution_count": 8,
      "id": "bf8ce9ac",
      "metadata": {
        "execution": {
          "iopub.execute_input": "2023-03-10T00:20:21.358457Z",
          "iopub.status.busy": "2023-03-10T00:20:21.357813Z",
          "iopub.status.idle": "2023-03-10T00:20:21.368401Z",
          "shell.execute_reply": "2023-03-10T00:20:21.367513Z"
        },
        "papermill": {
          "duration": 0.020403,
          "end_time": "2023-03-10T00:20:21.370795",
          "exception": false,
          "start_time": "2023-03-10T00:20:21.350392",
          "status": "completed"
        },
        "tags": [],
        "id": "bf8ce9ac"
      },
      "outputs": [],
      "source": [
        "model = create_model()\n",
        "\n",
        "model[\"n\"] = 3  # number of Handle Points\n",
        "\n",
        "CostFunction = lambda x: my_cost(x, model)    # Cost Function\n",
        "\n",
        "nVar = model[\"n\"]       # Number of Decision Variables\n",
        "\n",
        "VarSize = (1, nVar)   # Size of Decision Variables Matrix\n",
        "\n",
        "VarMin = {\"x\": model[\"xmin\"], \"y\": model[\"ymin\"]}           # Lower Bound of Variables\n",
        "VarMax = {\"x\": model[\"xmax\"], \"y\": model[\"ymax\"]}           # Upper Bound of Variables\n",
        "\n",
        "\n",
        "## PSO Parameters\n",
        "\n",
        "MaxIt = 220           # Maximum Number of Iterations\n",
        "\n",
        "nPop = 150           # Population Size (Swarm Size)\n",
        "\n",
        "w = 1                # Inertia Weight\n",
        "wdamp = 0.98         # Inertia Weight Damping Ratio\n",
        "c1 = 1.5             # Personal Learning Coefficient\n",
        "c2 = 1.5             # Global Learning Coefficient\n",
        "\n",
        "alpha = 0.1\n",
        "VelMax = {\"x\": alpha * (VarMax[\"x\"] - VarMin[\"x\"]), \"y\": alpha * (VarMax[\"y\"] - VarMin[\"y\"])}   # Maximum Velocity\n",
        "VelMin = {\"x\": -VelMax[\"x\"], \"y\": -VelMax[\"y\"]}                                                 # Minimum Velocity\n",
        "\n",
        "## Initialization\n",
        "\n",
        "# Create Empty Particle Structure\n",
        "empty_particle = {\"Position\": None,\n",
        "                  \"Velocity\": None,\n",
        "                  \"Cost\": None,\n",
        "                  \"Sol\": None,\n",
        "                  \"Best\": {\"Position\": None,\n",
        "                           \"Cost\": None,\n",
        "                           \"Sol\": None}}\n",
        "\n",
        "# Initialize Global Best\n",
        "GlobalBest = {\"Cost\": np.inf}\n",
        "\n",
        "# Create Particles Matrix\n",
        "particle = np.tile(empty_particle, (nPop, 1))"
      ]
    },
    {
      "cell_type": "code",
      "execution_count": 9,
      "id": "96578578",
      "metadata": {
        "execution": {
          "iopub.execute_input": "2023-03-10T00:20:21.397504Z",
          "iopub.status.busy": "2023-03-10T00:20:21.396846Z",
          "iopub.status.idle": "2023-03-10T00:20:21.471294Z",
          "shell.execute_reply": "2023-03-10T00:20:21.470405Z"
        },
        "papermill": {
          "duration": 0.085104,
          "end_time": "2023-03-10T00:20:21.473882",
          "exception": false,
          "start_time": "2023-03-10T00:20:21.388778",
          "status": "completed"
        },
        "tags": [],
        "id": "96578578"
      },
      "outputs": [],
      "source": [
        "# create an empty particle list\n",
        "particle = []\n",
        "\n",
        "# Initialization Loop\n",
        "for i in range(nPop):\n",
        "\n",
        "    # Initialize Particle\n",
        "    xx = np.array([0.1, 3,5.0])\n",
        "    yy = np.array([0.1, 3,5.0])\n",
        "\n",
        "    new_particle = {\n",
        "        'Position': {'x': xx, 'y': yy},\n",
        "        'Velocity': {'x': None, 'y': None},\n",
        "        'Cost': None,\n",
        "        'Sol': None,\n",
        "        'Best': {\n",
        "            'Position': {'x': None, 'y': None},\n",
        "            'Cost': None,\n",
        "            'Sol': None\n",
        "        }\n",
        "    }\n",
        "\n",
        "    # Initialize Position\n",
        "    if i > 0:\n",
        "        solu_1 = create_random_solution(model)\n",
        "        new_particle['Position'] = {'x': solu_1['x'], 'y': solu_1['y']}\n",
        "\n",
        "    # Initialize Velocity\n",
        "    new_particle['Velocity']['x'] = np.zeros(VarSize)\n",
        "    new_particle['Velocity']['y'] = np.zeros(VarSize)\n",
        "\n",
        "    # Evaluation\n",
        "    new_particle['Cost'], new_particle['Sol'] = CostFunction(new_particle['Position'])\n",
        "\n",
        "    # Update Personal Best\n",
        "    new_particle['Best']['Position'] = new_particle['Position']\n",
        "    new_particle['Best']['Cost'] = new_particle['Cost']\n",
        "    new_particle['Best']['Sol'] = new_particle['Sol']\n",
        "\n",
        "    # Add particle to the list\n",
        "    particle.append(new_particle)\n",
        "\n",
        "    # Update Global Best\n",
        "    if new_particle['Best']['Cost'] < GlobalBest['Cost']:\n",
        "        GlobalBest = new_particle['Best']"
      ]
    },
    {
      "cell_type": "markdown",
      "id": "4279795a",
      "metadata": {
        "papermill": {
          "duration": 0.00588,
          "end_time": "2023-03-10T00:20:21.486091",
          "exception": false,
          "start_time": "2023-03-10T00:20:21.480211",
          "status": "completed"
        },
        "tags": [],
        "id": "4279795a"
      },
      "source": [
        "<a id=\"pso_main\"></a>\n",
        "# <div style=\"padding:20px;color:white;margin:0;font-size:35px;font-family:Georgia;text-align:left;display:fill;border-radius:5px;background-color:#003d99;overflow:hidden\"><b>PSO Main Loop</b></div>"
      ]
    },
    {
      "cell_type": "code",
      "execution_count": 10,
      "id": "0706ab4e",
      "metadata": {
        "execution": {
          "iopub.execute_input": "2023-03-10T00:20:21.500422Z",
          "iopub.status.busy": "2023-03-10T00:20:21.500016Z",
          "iopub.status.idle": "2023-03-10T00:20:35.862772Z",
          "shell.execute_reply": "2023-03-10T00:20:35.861652Z"
        },
        "papermill": {
          "duration": 14.37333,
          "end_time": "2023-03-10T00:20:35.865509",
          "exception": false,
          "start_time": "2023-03-10T00:20:21.492179",
          "status": "completed"
        },
        "tags": [],
        "colab": {
          "base_uri": "https://localhost:8080/",
          "height": 430
        },
        "id": "0706ab4e",
        "outputId": "c178bbbd-bd5a-4ec2-c7d5-4a8deafaf542"
      },
      "outputs": [
        {
          "output_type": "display_data",
          "data": {
            "text/plain": [
              "<Figure size 640x480 with 1 Axes>"
            ],
            "image/png": "[encoded data removed]"
          },
          "metadata": {}
        }
      ],
      "source": [
        "BestCost = np.zeros(MaxIt)\n",
        "frames = []\n",
        "\n",
        "for it in range(MaxIt):\n",
        "    for i in range(nPop):\n",
        "        # Update x part\n",
        "        # Update velocity\n",
        "        particle[i]['Velocity']['x'] = w*particle[i]['Velocity']['x'] \\\n",
        "            + c1*np.random.rand(*VarSize)*(particle[i]['Best']['Position']['x']-particle[i]['Position']['x']) \\\n",
        "            + c2*np.random.rand(*VarSize)*(GlobalBest['Position']['x']-particle[i]['Position']['x'])\n",
        "        # Update velocity bounds\n",
        "        particle[i] ['Velocity'] ['x'] = np.maximum(particle[i] ['Velocity'] ['x'], VelMin ['x'])\n",
        "        particle[i] ['Velocity'] ['x'] = np.minimum(particle[i] ['Velocity'] ['x'], VelMax ['x'])\n",
        "        # Update position\n",
        "        particle[i] ['Position'] ['x'] = particle[i] ['Position'] ['x'] + particle[i] ['Velocity'] ['x']\n",
        "        # Velocity mirroring\n",
        "        OutOfTheRange = (particle[i] ['Position'] ['x']<VarMin ['x']) | (particle[i] ['Position'] ['x']>VarMax ['x'])\n",
        "        particle[i] ['Velocity'] ['x'][OutOfTheRange] = -particle[i] ['Velocity'] ['x'][OutOfTheRange]\n",
        "        # Update position bounds\n",
        "        particle[i] ['Position'] ['x'] = np.maximum(particle[i] ['Position'] ['x'], VarMin ['x']).flatten()\n",
        "        particle[i] ['Position'] ['x'] = np.minimum(particle[i] ['Position'] ['x'], VarMax ['x']).flatten()\n",
        "\n",
        "        # Update y part\n",
        "        # Update velocity\n",
        "        particle[i] ['Velocity']['y'] = w*particle[i] ['Velocity']['y'] \\\n",
        "            + c1*np.random.rand(*VarSize)*(particle[i]['Best']['Position']['y']-particle[i] ['Position']['y']) \\\n",
        "            + c2*np.random.rand(*VarSize)*(GlobalBest['Position']['y']-particle[i] ['Position']['y'])\n",
        "        # Update velocity bounds\n",
        "        particle[i] ['Velocity']['y'] = np.maximum(particle[i] ['Velocity']['y'], VelMin['y'])\n",
        "        particle[i] ['Velocity']['y'] = np.minimum(particle[i] ['Velocity']['y'], VelMax['y'])\n",
        "        # Update position\n",
        "        particle[i] ['Position']['y'] = particle[i] ['Position']['y'] + particle[i] ['Velocity']['y']\n",
        "        # Velocity mirroring\n",
        "        OutOfTheRange = (particle[i] ['Position']['y']<VarMin['y']) | (particle[i] ['Position']['y']>VarMax['y'])\n",
        "        particle[i] ['Velocity']['y'][OutOfTheRange] = -particle[i] ['Velocity']['y'][OutOfTheRange]\n",
        "        # Update position bounds\n",
        "        particle[i] ['Position']['y'] = np.maximum(particle[i] ['Position']['y'], VarMin['y']).flatten()\n",
        "        particle[i] ['Position']['y'] = np.minimum(particle[i] ['Position']['y'], VarMax['y']).flatten()\n",
        "\n",
        "        # Evaluation\n",
        "        particle[i]['Cost'], particle[i]['Sol'] = CostFunction(particle[i]['Position'])\n",
        "\n",
        "        # Update personal best\n",
        "        if particle[i]['Cost'] < particle[i]['Best']['Cost']:\n",
        "            particle[i]['Best']['Position'] = particle[i] ['Position']\n",
        "            particle[i]['Best']['Cost'] = particle[i]['Cost']\n",
        "            particle[i]['Best']['Sol'] = particle[i]['Sol']\n",
        "\n",
        "            # Update global best\n",
        "            if particle[i]['Best']['Cost'] < GlobalBest['Cost']:\n",
        "                GlobalBest = particle[i]['Best']\n",
        "\n",
        "    # Update best cost ever found\n",
        "    BestCost[it] = GlobalBest['Cost']\n",
        "\n",
        "    # Inertia weight damping\n",
        "    w = w*wdamp\n",
        "\n",
        "    # Show iteration information\n",
        "    if GlobalBest['Sol']['IsFeasible']:\n",
        "        Flag = ' *'\n",
        "    else:\n",
        "        Flag = ', Violation = ' + str(GlobalBest['Sol']['Violation'])\n",
        "#     print('Iteration', it, ': Best Cost =', BestCost[it], Flag)\n",
        "\n",
        "# Plot solution\n",
        "PlotSolution2(GlobalBest['Sol'], model)"
      ]
    }
  ],
  "metadata": {
    "kernelspec": {
      "display_name": "Python 3",
      "language": "python",
      "name": "python3"
    },
    "language_info": {
      "codemirror_mode": {
        "name": "ipython",
        "version": 3
      },
      "file_extension": ".py",
      "mimetype": "text/x-python",
      "name": "python",
      "nbconvert_exporter": "python",
      "pygments_lexer": "ipython3",
      "version": "3.7.12"
    },
    "papermill": {
      "default_parameters": {},
      "duration": 26.041315,
      "end_time": "2023-03-10T00:20:36.672197",
      "environment_variables": {},
      "exception": null,
      "input_path": "__notebook__.ipynb",
      "output_path": "__notebook__.ipynb",
      "parameters": {},
      "start_time": "2023-03-10T00:20:10.630882",
      "version": "2.3.4"
    },
    "colab": {
      "provenance": [],
      "include_colab_link": true
    }
  },
  "nbformat": 4,
  "nbformat_minor": 5
}